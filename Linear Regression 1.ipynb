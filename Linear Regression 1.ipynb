{
 "cells": [
  {
   "cell_type": "code",
   "execution_count": 1,
   "metadata": {},
   "outputs": [],
   "source": [
    "import tensorflow as tf\n",
    "import numpy as np\n",
    "import matplotlib.pyplot as plt\n",
    "\n",
    "%config InlineBackend.figure.format = 'svg'"
   ]
  },
  {
   "cell_type": "code",
   "execution_count": 2,
   "metadata": {},
   "outputs": [],
   "source": [
    "learning_rate = 0.01\n",
    "epochs = 200"
   ]
  },
  {
   "cell_type": "code",
   "execution_count": 5,
   "metadata": {},
   "outputs": [],
   "source": [
    "n_samples = 30\n",
    "train_x = np.linspace(0,20,n_samples)\n",
    "train_y = 3*train_x + 4*np.random.randn(n_samples)"
   ]
  },
  {
   "cell_type": "code",
   "execution_count": 7,
   "metadata": {},
   "outputs": [
    {
     "data": {
      "image/png": "[encoded data removed]",
      "text/plain": [
       "<Figure size 432x288 with 1 Axes>"
      ]
     },
     "metadata": {
      "needs_background": "light"
     },
     "output_type": "display_data"
    }
   ],
   "source": [
    "plt.plot(train_x,train_y,'o')\n",
    "plt.plot(train_x, 3* train_x)\n",
    "plt.show()"
   ]
  },
  {
   "cell_type": "markdown",
   "metadata": {},
   "source": [
    "# Create variables for X,Y,W,B"
   ]
  },
  {
   "cell_type": "code",
   "execution_count": 9,
   "metadata": {},
   "outputs": [
    {
     "name": "stdout",
     "output_type": "stream",
     "text": [
      "WARNING:tensorflow:From C:\\Users\\user\\Anaconda3\\lib\\site-packages\\tensorflow\\python\\framework\\op_def_library.py:263: colocate_with (from tensorflow.python.framework.ops) is deprecated and will be removed in a future version.\n",
      "Instructions for updating:\n",
      "Colocations handled automatically by placer.\n"
     ]
    }
   ],
   "source": [
    "X = tf.placeholder(tf.float32)\n",
    "Y = tf.placeholder(tf.float32)\n",
    "\n",
    "W = tf.Variable(np.random.randn(),name = 'weights')\n",
    "B = tf.Variable(np.random.randn(),name = 'bias')"
   ]
  },
  {
   "cell_type": "markdown",
   "metadata": {},
   "source": [
    "# Define a graph"
   ]
  },
  {
   "cell_type": "code",
   "execution_count": 25,
   "metadata": {},
   "outputs": [
    {
     "name": "stdout",
     "output_type": "stream",
     "text": [
      "WARNING:tensorflow:From C:\\Users\\user\\Anaconda3\\lib\\site-packages\\tensorflow\\python\\ops\\math_ops.py:3066: to_int32 (from tensorflow.python.ops.math_ops) is deprecated and will be removed in a future version.\n",
      "Instructions for updating:\n",
      "Use tf.cast instead.\n"
     ]
    }
   ],
   "source": [
    "pred = X*W + B     #pred = tf.add(tf.multiply(X, W), B)   both ways also work\n",
    "\n",
    "cost = tf.reduce_sum((pred - Y) ** 2 )/ (2 * n_samples)\n",
    "optimizer = tf.train.GradientDescentOptimizer(learning_rate).minimize(cost)"
   ]
  },
  {
   "cell_type": "markdown",
   "metadata": {},
   "source": [
    "# Initialize all parameters and variables"
   ]
  },
  {
   "cell_type": "code",
   "execution_count": 27,
   "metadata": {},
   "outputs": [],
   "source": [
    "init = tf.global_variables_initializer()"
   ]
  },
  {
   "cell_type": "code",
   "execution_count": 31,
   "metadata": {},
   "outputs": [
    {
     "name": "stdout",
     "output_type": "stream",
     "text": [
      "epoch:  000 c=33.3756 w= 2.3918 b = 1.3127\n",
      "epoch:  020 c=12.9782 w= 2.9777 b = 1.2757\n",
      "epoch:  040 c=12.9414 w= 2.9830 b = 1.1940\n",
      "epoch:  060 c=12.9082 w= 2.9880 b = 1.1164\n",
      "epoch:  080 c=12.8783 w= 2.9927 b = 1.0427\n",
      "epoch:  100 c=12.8512 w= 2.9972 b = 0.9728\n",
      "epoch:  120 c=12.8268 w= 3.0015 b = 0.9065\n",
      "epoch:  140 c=12.8047 w= 3.0055 b = 0.8435\n",
      "epoch:  160 c=12.7848 w= 3.0094 b = 0.7837\n",
      "epoch:  180 c=12.7667 w= 3.0130 b = 0.7270\n"
     ]
    },
    {
     "data": {
      "image/png": "[encoded data removed]",
      "text/plain": [
       "<Figure size 432x288 with 1 Axes>"
      ]
     },
     "metadata": {
      "needs_background": "light"
     },
     "output_type": "display_data"
    }
   ],
   "source": [
    "#loop over x and y data inside for loop\n",
    "#run optimizer and fit the data, optimize W and minimize Cost\n",
    "# for every 20 epoch, print statement to check the cost and bias\n",
    "# Run the final weight and bias\n",
    "\n",
    "with tf.Session() as sess:\n",
    "    sess.run(init)\n",
    "    \n",
    "    for epoch in range(epochs):\n",
    "        for x, y in zip(train_x, train_y):\n",
    "            sess.run(optimizer,feed_dict = {X: x, Y:y})\n",
    "        \n",
    "        if not epoch % 20:\n",
    "            c = sess.run(cost, feed_dict = {X: train_x, Y: train_y})\n",
    "            w = sess.run(W)\n",
    "            b = sess.run(B)\n",
    "            print(f'epoch: {epoch: 04d} c={c:.4f} w={w: .4f} b = {b:.4f}')\n",
    "    \n",
    "    weight = sess.run(W)\n",
    "    bias = sess.run(B)\n",
    "    plt.plot(train_x, train_y, 'o')\n",
    "    plt.plot(train_x,weight * train_x + bias)\n",
    "    plt.show()"
   ]
  },
  {
   "cell_type": "code",
   "execution_count": null,
   "metadata": {},
   "outputs": [],
   "source": []
  }
 ],
 "metadata": {
  "kernelspec": {
   "display_name": "Python 3",
   "language": "python",
   "name": "python3"
  },
  "language_info": {
   "codemirror_mode": {
    "name": "ipython",
    "version": 3
   },
   "file_extension": ".py",
   "mimetype": "text/x-python",
   "name": "python",
   "nbconvert_exporter": "python",
   "pygments_lexer": "ipython3",
   "version": "3.7.1"
  }
 },
 "nbformat": 4,
 "nbformat_minor": 2
}
